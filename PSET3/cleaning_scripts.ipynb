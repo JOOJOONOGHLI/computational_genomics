{
 "cells": [
  {
   "cell_type": "code",
   "execution_count": 9,
   "id": "34b32895-83bd-4e71-922d-ee3a4d93f503",
   "metadata": {},
   "outputs": [
    {
     "ename": "StopIteration",
     "evalue": "",
     "output_type": "error",
     "traceback": [
      "\u001b[0;31m---------------------------------------------------------------------------\u001b[0m",
      "\u001b[0;31mStopIteration\u001b[0m                             Traceback (most recent call last)",
      "\u001b[0;32m/var/folders/sl/mgzmktn12h9_b1b_pk1t5jnr0000gn/T/ipykernel_16430/1639584223.py\u001b[0m in \u001b[0;36m<module>\u001b[0;34m\u001b[0m\n\u001b[1;32m      9\u001b[0m \u001b[0;34m\u001b[0m\u001b[0m\n\u001b[1;32m     10\u001b[0m     \u001b[0;31m# Write the header row to the output file\u001b[0m\u001b[0;34m\u001b[0m\u001b[0;34m\u001b[0m\u001b[0m\n\u001b[0;32m---> 11\u001b[0;31m     \u001b[0mwriter\u001b[0m\u001b[0;34m.\u001b[0m\u001b[0mwriterow\u001b[0m\u001b[0;34m(\u001b[0m\u001b[0mnext\u001b[0m\u001b[0;34m(\u001b[0m\u001b[0mreader\u001b[0m\u001b[0;34m)\u001b[0m\u001b[0;34m)\u001b[0m\u001b[0;34m\u001b[0m\u001b[0;34m\u001b[0m\u001b[0m\n\u001b[0m\u001b[1;32m     12\u001b[0m \u001b[0;34m\u001b[0m\u001b[0m\n\u001b[1;32m     13\u001b[0m     \u001b[0;31m# Iterate through each row in the input file\u001b[0m\u001b[0;34m\u001b[0m\u001b[0;34m\u001b[0m\u001b[0m\n",
      "\u001b[0;31mStopIteration\u001b[0m: "
     ]
    }
   ],
   "source": [
    "#This function will allow us to loop through every row and remove all lines that do not belong to a particular chromosome\n",
    "\n",
    "import csv\n",
    "\n",
    "# Open the input file for reading and create an output file for writing\n",
    "with open('hg83_gencode_v41_all_genes_(8).tsv', 'r') as infile, open('hg83_gencode_v41_all_genes_(8)_output_new.tsv', 'w', newline='') as outfile:\n",
    "    reader = csv.reader(infile, delimiter='\\t')\n",
    "    writer = csv.writer(outfile, delimiter='\\t')\n",
    "\n",
    "    # Write the header row to the output file\n",
    "    writer.writerow(next(reader))\n",
    "\n",
    "    # Iterate through each row in the input file\n",
    "    for row in reader:\n",
    "        # Check if the chromosome is one of chromosomes 1-22, X, or Y\n",
    "        if row[2] in ['chr' + str(i) for i in range(1, 23)] + ['chrX', 'chrY']:\n",
    "            # Write the row to the output file\n",
    "            writer.writerow(row)\n"
   ]
  },
  {
   "cell_type": "code",
   "execution_count": 7,
   "id": "bdb8940c-d99b-4e55-be57-f13ae682803f",
   "metadata": {},
   "outputs": [],
   "source": [
    "#This function will allow us to loop through every row and remove all lines that do not belong to a particular chromosome\n",
    "\n",
    "import csv\n",
    "\n",
    "# Open the input file for reading and create an output file for writing\n",
    "with open('hg83_gencode_v41_all_genes_(8)_output.tsv', 'r') as infile, open('hg83_gencode_v41_all_genes_clean(8).tsv', 'w', newline='') as outfile:\n",
    "    reader = csv.reader(infile, delimiter='\\t')\n",
    "    writer = csv.writer(outfile, delimiter='\\t')\n",
    "\n",
    "    # Write the header row to the output file\n",
    "    #writer.writerow(next(reader))\n",
    "\n",
    "    # Iterate through each row in the input file\n",
    "    for row in reader:\n",
    "        # Check if the chromosome is one of chromosomes 1-22, X, or Y\n",
    "            # Write the row to the output file\n",
    "            if row[10] != 'protein_coding' or row[11] != 'protein_coding':\n",
    "            # Write the row to the output file\n",
    "            writer.writerow(row)"
   ]
  },
  {
   "cell_type": "code",
   "execution_count": null,
   "id": "c17971af-d0dc-4de0-9953-0836ee6ecfa1",
   "metadata": {},
   "outputs": [],
   "source": []
  },
  {
   "cell_type": "code",
   "execution_count": null,
   "id": "da51e08b-d73d-4e10-a53b-759e49ecb7ff",
   "metadata": {},
   "outputs": [],
   "source": []
  }
 ],
 "metadata": {
  "kernelspec": {
   "display_name": "Python 3 (ipykernel)",
   "language": "python",
   "name": "python3"
  },
  "language_info": {
   "codemirror_mode": {
    "name": "ipython",
    "version": 3
   },
   "file_extension": ".py",
   "mimetype": "text/x-python",
   "name": "python",
   "nbconvert_exporter": "python",
   "pygments_lexer": "ipython3",
   "version": "3.9.13"
  }
 },
 "nbformat": 4,
 "nbformat_minor": 5
}
