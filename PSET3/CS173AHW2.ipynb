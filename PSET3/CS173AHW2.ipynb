{
  "nbformat" : 4,
  "metadata" : {
    "colab" : {
      "provenance" : [

      ]
    },
    "language_info" : {
      "name" : "python"
    },
    "kernelspec" : {
      "name" : "python3",
      "display_name" : "Python 3"
    }
  },
  "nbformat_minor" : 0,
  "cells" : [
    {
      "metadata" : {
        "id" : "kIIEnx7VqTqS"
      },
      "source" : [
        "import pandas as pd\n",
        "import matplotlib.pyplot as plt\n",
        "\n",
        "df = pd.read_csv('hg38_lincRNA_clean.tsv', sep='\\t')\n",
        "x_data = df['column_name1']\n",
        "y_data = df['column_name2']\n",
        "\n",
        "plt.scatter(x_data, y_data)\n",
        "plt.xlabel('X-axis label')\n",
        "plt.ylabel('Y-axis label')\n",
        "plt.title('Title of scatterplot')\n",
        "plt.show()"
      ],
      "cell_type" : "code",
      "execution_count" : null,
      "outputs" : [

      ]
    }
  ]
}